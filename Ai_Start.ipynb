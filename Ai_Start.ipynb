{
  "nbformat": 4,
  "nbformat_minor": 0,
  "metadata": {
    "colab": {
      "provenance": [],
      "authorship_tag": "ABX9TyPoK/iMSetMK2GLUmCiWKpz",
      "include_colab_link": true
    },
    "kernelspec": {
      "name": "python3",
      "display_name": "Python 3"
    },
    "language_info": {
      "name": "python"
    }
  },
  "cells": [
    {
      "cell_type": "markdown",
      "metadata": {
        "id": "view-in-github",
        "colab_type": "text"
      },
      "source": [
        "<a href=\"https://colab.research.google.com/github/Joohyung-7270/Jayden_AI2/blob/main/Ai_Start.ipynb\" target=\"_parent\"><img src=\"https://colab.research.google.com/assets/colab-badge.svg\" alt=\"Open In Colab\"/></a>"
      ]
    },
    {
      "cell_type": "code",
      "execution_count": 1,
      "metadata": {
        "colab": {
          "base_uri": "https://localhost:8080/"
        },
        "id": "6ZY9hzBXUlWw",
        "outputId": "5a21ebb0-5142-4440-8d7a-0655347e26cb"
      },
      "outputs": [
        {
          "output_type": "stream",
          "name": "stdout",
          "text": [
            "Writing Mymodule.py\n"
          ]
        }
      ],
      "source": [
        "%%writefile Mymodule.py\n",
        "\n",
        "def hello():\n",
        "    print(\"Hello, World!\")\n",
        "\n",
        "class MyClass:\n",
        "    def __init__(self):\n",
        "        self.value = 0\n",
        "    def set_value(self, x):\n",
        "        self.value = x\n",
        "    def get_value(self):\n",
        "        return self.value"
      ]
    },
    {
      "cell_type": "code",
      "source": [
        "import Mymodule\n",
        "\n",
        "# Mymodule 모듈의 hello() 함수 호출\n",
        "Mymodule.hello()\n",
        "\n",
        "# MyClass 클래스의 인스턴스 생성 및 메서드 호출\n",
        "mc = Mymodule.MyClass()\n",
        "mc.set_value(10)\n",
        "print(mc.get_value())  # 10 출력"
      ],
      "metadata": {
        "colab": {
          "base_uri": "https://localhost:8080/"
        },
        "id": "YKEeS6QaUtx_",
        "outputId": "ca0ba579-540d-481f-cc44-b6754a0019ef"
      },
      "execution_count": 3,
      "outputs": [
        {
          "output_type": "stream",
          "name": "stdout",
          "text": [
            "Hello, World!\n",
            "10\n"
          ]
        }
      ]
    }
  ]
}